{
 "cells": [
  {
   "cell_type": "markdown",
   "metadata": {},
   "source": [
    "# ARCOS Pipeline in python\n",
    "\n",
    "This notebook ilustrates a example workflow from images to ARCOS analysis and visualization in napari. It uses the python package stardist for segmenting nuclei, skimage for image processing and trackpy for tracking cells over time.\n",
    "Subsequently ARCOS is used to analyse and detect collective events"
   ]
  },
  {
   "cell_type": "markdown",
   "metadata": {},
   "source": [
    "### Imports"
   ]
  },
  {
   "cell_type": "code",
   "execution_count": 65,
   "metadata": {},
   "outputs": [],
   "source": [
    "import os\n",
    "import skimage\n",
    "import numpy\n",
    "\n",
    "from napari import Viewer\n",
    "from stardist.models import StarDist2D\n",
    "from csbdeep.utils import normalize\n",
    "from skimage.measure import regionprops, regionprops_table\n",
    "\n",
    "import pandas as pd\n",
    "import trackpy\n",
    "from arcos4py import ARCOS\n",
    "import errno\n",
    "\n",
    "TAB20 = [\n",
    "    \"#1f77b4\",\n",
    "    \"#aec7e8\",\n",
    "    \"#ff7f0e\",\n",
    "    \"#ffbb78\",\n",
    "    \"#2ca02c\",\n",
    "    \"#98df8a\",\n",
    "    \"#d62728\",\n",
    "    \"#ff9896\",\n",
    "    \"#9467bd\",\n",
    "    \"#c5b0d5\",\n",
    "    \"#8c564b\",\n",
    "    \"#c49c94\",\n",
    "    \"#e377c2\",\n",
    "    \"#f7b6d2\",\n",
    "    \"#7f7f7f\",\n",
    "    \"#c7c7c7\",\n",
    "    \"#bcbd22\",\n",
    "    \"#dbdb8d\",\n",
    "    \"#17becf\",\n",
    "    \"#9edae5\",\n",
    "]"
   ]
  },
  {
   "cell_type": "markdown",
   "metadata": {},
   "source": [
    "### Custom Functions"
   ]
  },
  {
   "cell_type": "code",
   "execution_count": 66,
   "metadata": {},
   "outputs": [],
   "source": [
    "def create_folders(path: str, folder: list):\n",
    "    for i in folder:\n",
    "        folder_to_make = os.path.join(path, i)\n",
    "        try:\n",
    "            os.makedirs(folder_to_make)\n",
    "            print(f'folder \"{i}\" created')\n",
    "        except OSError as e:\n",
    "            print(f'folder \"{i}\" alrady exists')\n",
    "            if e.errno != errno.EEXIST:\n",
    "                raise\n",
    "\n",
    "def remap_segmentation(df: pd.DataFrame, segmentation: list, timepoint_column: str = 'timepoint', label_column: str = 'label', measure_column: str = 'ERK') -> list:\n",
    "    tracked_numpy = df[[timepoint_column, label_column, measure_column]].sort_values(timepoint_column).to_numpy()\n",
    "    grouped_numpy = numpy.split(tracked_numpy,numpy.unique(tracked_numpy[:,0], return_index = True)[1][1:])\n",
    "    ratio_remapped = []\n",
    "    for img, grp in zip(segmentation, grouped_numpy):\n",
    "        img_copy = img.copy()\n",
    "        for index, region in enumerate(grp[:,1]):\n",
    "            img_copy[img==int(region)] = grp[index, 2]\n",
    "        ratio_remapped.append(img_copy)\n",
    "    return ratio_remapped"
   ]
  },
  {
   "cell_type": "markdown",
   "metadata": {},
   "source": [
    "### Define variables and create output folders"
   ]
  },
  {
   "cell_type": "code",
   "execution_count": 67,
   "metadata": {},
   "outputs": [
    {
     "name": "stdout",
     "output_type": "stream",
     "text": [
      "folder \"data\" alrady exists\n",
      "folder \"stardist\" alrady exists\n"
     ]
    }
   ],
   "source": [
    "PATH = 'example_data' # where you data is located   \n",
    "FOLDER = 'mdck_ekar' # subfolder of PATH where images are stored\n",
    "OUT_DATA = 'data' # subfolder of PATH where csv is stored\n",
    "OUT_LABELS = 'stardist' # subfolder of PATH where stardist segmentation is stored\n",
    "FILENAME = 'C3-041_Ori.tif'\n",
    "full_path = os.path.join(PATH, FOLDER)\n",
    "orig_images_path = os.path.join(PATH, FOLDER)\n",
    "out_path_csv = os.path.join(PATH, OUT_DATA)\n",
    "create_folders(PATH, [OUT_DATA, OUT_LABELS]) "
   ]
  },
  {
   "cell_type": "markdown",
   "metadata": {},
   "source": [
    "### Load segmentation model and image"
   ]
  },
  {
   "cell_type": "code",
   "execution_count": 68,
   "metadata": {},
   "outputs": [
    {
     "name": "stdout",
     "output_type": "stream",
     "text": [
      "Found model '2D_versatile_fluo' for 'StarDist2D'.\n",
      "Loading network weights from 'weights_best.h5'.\n",
      "Loading thresholds from 'thresholds.json'.\n",
      "Using default values: prob_thresh=0.479071, nms_thresh=0.3.\n"
     ]
    }
   ],
   "source": [
    "model = StarDist2D.from_pretrained('2D_versatile_fluo') # standard stardist model for 2d segmentation\n",
    "image_data = skimage.io.imread(os.path.join(orig_images_path, FILENAME))"
   ]
  },
  {
   "cell_type": "markdown",
   "metadata": {},
   "source": [
    "### Apply segmentation and extract data from images"
   ]
  },
  {
   "cell_type": "code",
   "execution_count": 69,
   "metadata": {},
   "outputs": [
    {
     "name": "stdout",
     "output_type": "stream",
     "text": [
      "analysing timepoint 0\n",
      "1/1 [==============================] - 0s 198ms/step\n",
      "analysing timepoint 1\n",
      "1/1 [==============================] - 0s 72ms/step\n",
      "analysing timepoint 2\n",
      "1/1 [==============================] - 0s 74ms/step\n",
      "analysing timepoint 3\n",
      "1/1 [==============================] - 0s 85ms/step\n",
      "analysing timepoint 4\n",
      "1/1 [==============================] - 0s 74ms/step\n",
      "analysing timepoint 5\n",
      "1/1 [==============================] - 0s 75ms/step\n",
      "analysing timepoint 6\n",
      "1/1 [==============================] - 0s 83ms/step\n",
      "analysing timepoint 7\n",
      "1/1 [==============================] - 0s 85ms/step\n",
      "analysing timepoint 8\n",
      "1/1 [==============================] - 0s 81ms/step\n",
      "analysing timepoint 9\n",
      "1/1 [==============================] - 0s 79ms/step\n",
      "analysing timepoint 10\n",
      "1/1 [==============================] - 0s 74ms/step\n",
      "analysing timepoint 11\n",
      "1/1 [==============================] - 0s 84ms/step\n",
      "analysing timepoint 12\n",
      "1/1 [==============================] - 0s 80ms/step\n",
      "analysing timepoint 13\n",
      "1/1 [==============================] - 0s 77ms/step\n",
      "analysing timepoint 14\n",
      "1/1 [==============================] - 0s 75ms/step\n",
      "analysing timepoint 15\n",
      "1/1 [==============================] - 0s 96ms/step\n",
      "analysing timepoint 16\n",
      "1/1 [==============================] - 0s 81ms/step\n",
      "analysing timepoint 17\n",
      "1/1 [==============================] - 0s 81ms/step\n",
      "analysing timepoint 18\n",
      "1/1 [==============================] - 0s 84ms/step\n",
      "analysing timepoint 19\n",
      "1/1 [==============================] - 0s 85ms/step\n",
      "analysing timepoint 20\n",
      "1/1 [==============================] - 0s 90ms/step\n",
      "analysing timepoint 21\n",
      "1/1 [==============================] - 0s 76ms/step\n",
      "analysing timepoint 22\n",
      "1/1 [==============================] - 0s 84ms/step\n",
      "analysing timepoint 23\n",
      "1/1 [==============================] - 0s 75ms/step\n",
      "analysing timepoint 24\n",
      "1/1 [==============================] - 0s 85ms/step\n",
      "analysing timepoint 25\n",
      "1/1 [==============================] - 0s 76ms/step\n",
      "analysing timepoint 26\n",
      "1/1 [==============================] - 0s 83ms/step\n",
      "analysing timepoint 27\n",
      "1/1 [==============================] - 0s 80ms/step\n",
      "analysing timepoint 28\n",
      "1/1 [==============================] - 0s 80ms/step\n",
      "analysing timepoint 29\n",
      "1/1 [==============================] - 0s 125ms/step\n",
      "analysing timepoint 30\n",
      "1/1 [==============================] - 0s 101ms/step\n",
      "analysing timepoint 31\n",
      "1/1 [==============================] - 0s 115ms/step\n",
      "analysing timepoint 32\n",
      "1/1 [==============================] - 0s 120ms/step\n",
      "analysing timepoint 33\n",
      "1/1 [==============================] - 0s 119ms/step\n",
      "analysing timepoint 34\n",
      "1/1 [==============================] - 0s 111ms/step\n",
      "analysing timepoint 35\n",
      "1/1 [==============================] - 0s 108ms/step\n",
      "analysing timepoint 36\n",
      "1/1 [==============================] - 0s 117ms/step\n",
      "analysing timepoint 37\n",
      "1/1 [==============================] - 0s 109ms/step\n",
      "analysing timepoint 38\n",
      "1/1 [==============================] - 0s 105ms/step\n",
      "analysing timepoint 39\n",
      "1/1 [==============================] - 0s 109ms/step\n",
      "analysing timepoint 40\n",
      "1/1 [==============================] - 0s 131ms/step\n",
      "analysing timepoint 41\n",
      "1/1 [==============================] - 0s 114ms/step\n",
      "analysing timepoint 42\n",
      "1/1 [==============================] - 0s 117ms/step\n",
      "analysing timepoint 43\n",
      "1/1 [==============================] - 0s 114ms/step\n",
      "analysing timepoint 44\n",
      "1/1 [==============================] - 0s 127ms/step\n",
      "analysing timepoint 45\n",
      "1/1 [==============================] - 0s 109ms/step\n",
      "analysing timepoint 46\n",
      "1/1 [==============================] - 0s 106ms/step\n",
      "analysing timepoint 47\n",
      "1/1 [==============================] - 0s 110ms/step\n",
      "analysing timepoint 48\n",
      "1/1 [==============================] - 0s 136ms/step\n",
      "analysing timepoint 49\n",
      "1/1 [==============================] - 0s 123ms/step\n",
      "analysing timepoint 50\n",
      "1/1 [==============================] - 0s 105ms/step\n",
      "analysing timepoint 51\n",
      "1/1 [==============================] - 0s 111ms/step\n",
      "analysing timepoint 52\n",
      "1/1 [==============================] - 0s 121ms/step\n",
      "analysing timepoint 53\n",
      "1/1 [==============================] - 0s 123ms/step\n",
      "analysing timepoint 54\n",
      "1/1 [==============================] - 0s 103ms/step\n",
      "analysing timepoint 55\n",
      "1/1 [==============================] - 0s 104ms/step\n",
      "analysing timepoint 56\n",
      "1/1 [==============================] - 0s 103ms/step\n",
      "analysing timepoint 57\n",
      "1/1 [==============================] - 0s 108ms/step\n",
      "analysing timepoint 58\n",
      "1/1 [==============================] - 0s 103ms/step\n",
      "analysing timepoint 59\n",
      "1/1 [==============================] - 0s 102ms/step\n",
      "analysing timepoint 60\n",
      "1/1 [==============================] - 0s 111ms/step\n",
      "analysing timepoint 61\n",
      "1/1 [==============================] - 0s 113ms/step\n",
      "analysing timepoint 62\n",
      "1/1 [==============================] - 0s 105ms/step\n",
      "analysing timepoint 63\n",
      "1/1 [==============================] - 0s 106ms/step\n",
      "analysing timepoint 64\n",
      "1/1 [==============================] - 0s 101ms/step\n",
      "analysing timepoint 65\n",
      "1/1 [==============================] - 0s 102ms/step\n",
      "analysing timepoint 66\n",
      "1/1 [==============================] - 0s 107ms/step\n",
      "analysing timepoint 67\n",
      "1/1 [==============================] - 0s 100ms/step\n",
      "analysing timepoint 68\n",
      "1/1 [==============================] - 0s 104ms/step\n",
      "analysing timepoint 69\n",
      "1/1 [==============================] - 0s 98ms/step\n",
      "analysing timepoint 70\n",
      "1/1 [==============================] - 0s 103ms/step\n",
      "analysing timepoint 71\n",
      "1/1 [==============================] - 0s 112ms/step\n",
      "analysing timepoint 72\n",
      "1/1 [==============================] - 0s 110ms/step\n",
      "analysing timepoint 73\n",
      "1/1 [==============================] - 0s 96ms/step\n",
      "analysing timepoint 74\n",
      "1/1 [==============================] - 0s 102ms/step\n",
      "analysing timepoint 75\n",
      "1/1 [==============================] - 0s 113ms/step\n",
      "analysing timepoint 76\n",
      "1/1 [==============================] - 0s 111ms/step\n",
      "analysing timepoint 77\n",
      "1/1 [==============================] - 0s 107ms/step\n",
      "analysing timepoint 78\n",
      "1/1 [==============================] - 0s 111ms/step\n",
      "analysing timepoint 79\n",
      "1/1 [==============================] - 0s 111ms/step\n",
      "analysing timepoint 80\n",
      "1/1 [==============================] - 0s 107ms/step\n",
      "analysing timepoint 81\n",
      "1/1 [==============================] - 0s 100ms/step\n",
      "analysing timepoint 82\n",
      "1/1 [==============================] - 0s 105ms/step\n",
      "analysing timepoint 83\n",
      "1/1 [==============================] - 0s 108ms/step\n",
      "analysing timepoint 84\n",
      "1/1 [==============================] - 0s 104ms/step\n",
      "analysing timepoint 85\n",
      "1/1 [==============================] - 0s 101ms/step\n",
      "analysing timepoint 86\n",
      "1/1 [==============================] - 0s 106ms/step\n",
      "analysing timepoint 87\n",
      "1/1 [==============================] - 0s 102ms/step\n",
      "analysing timepoint 88\n",
      "1/1 [==============================] - 0s 105ms/step\n",
      "analysing timepoint 89\n",
      "1/1 [==============================] - 0s 100ms/step\n",
      "analysing timepoint 90\n",
      "1/1 [==============================] - 0s 106ms/step\n",
      "analysing timepoint 91\n",
      "1/1 [==============================] - 0s 105ms/step\n",
      "analysing timepoint 92\n",
      "1/1 [==============================] - 0s 105ms/step\n",
      "analysing timepoint 93\n",
      "1/1 [==============================] - 0s 153ms/step\n",
      "analysing timepoint 94\n",
      "1/1 [==============================] - 0s 92ms/step\n",
      "analysing timepoint 95\n",
      "1/1 [==============================] - 0s 104ms/step\n",
      "analysing timepoint 96\n",
      "1/1 [==============================] - 0s 104ms/step\n",
      "analysing timepoint 97\n",
      "1/1 [==============================] - 0s 107ms/step\n",
      "analysing timepoint 98\n",
      "1/1 [==============================] - 0s 108ms/step\n",
      "analysing timepoint 99\n",
      "1/1 [==============================] - 0s 96ms/step\n",
      "analysing timepoint 100\n",
      "1/1 [==============================] - 0s 108ms/step\n",
      "analysing timepoint 101\n",
      "1/1 [==============================] - 0s 111ms/step\n",
      "analysing timepoint 102\n",
      "1/1 [==============================] - 0s 118ms/step\n",
      "analysing timepoint 103\n",
      "1/1 [==============================] - 0s 105ms/step\n",
      "analysing timepoint 104\n",
      "1/1 [==============================] - 0s 97ms/step\n",
      "analysing timepoint 105\n",
      "1/1 [==============================] - 0s 100ms/step\n",
      "analysing timepoint 106\n",
      "1/1 [==============================] - 0s 113ms/step\n",
      "analysing timepoint 107\n",
      "1/1 [==============================] - 0s 103ms/step\n",
      "analysing timepoint 108\n",
      "1/1 [==============================] - 0s 106ms/step\n",
      "analysing timepoint 109\n",
      "1/1 [==============================] - 0s 115ms/step\n",
      "analysing timepoint 110\n",
      "1/1 [==============================] - 0s 111ms/step\n",
      "analysing timepoint 111\n",
      "1/1 [==============================] - 0s 107ms/step\n",
      "analysing timepoint 112\n",
      "1/1 [==============================] - 0s 115ms/step\n",
      "analysing timepoint 113\n",
      "1/1 [==============================] - 0s 103ms/step\n",
      "analysing timepoint 114\n",
      "1/1 [==============================] - 0s 106ms/step\n",
      "analysing timepoint 115\n",
      "1/1 [==============================] - 0s 100ms/step\n",
      "analysing timepoint 116\n",
      "1/1 [==============================] - 0s 98ms/step\n",
      "analysing timepoint 117\n",
      "1/1 [==============================] - 0s 97ms/step\n",
      "analysing timepoint 118\n",
      "1/1 [==============================] - 0s 124ms/step\n",
      "analysing timepoint 119\n",
      "1/1 [==============================] - 0s 100ms/step\n",
      "analysing timepoint 120\n",
      "1/1 [==============================] - 0s 103ms/step\n",
      "analysing timepoint 121\n",
      "1/1 [==============================] - 0s 104ms/step\n",
      "analysing timepoint 122\n",
      "1/1 [==============================] - 0s 116ms/step\n",
      "analysing timepoint 123\n",
      "1/1 [==============================] - 0s 103ms/step\n",
      "analysing timepoint 124\n",
      "1/1 [==============================] - 0s 107ms/step\n",
      "analysing timepoint 125\n",
      "1/1 [==============================] - 0s 108ms/step\n",
      "analysing timepoint 126\n",
      "1/1 [==============================] - 0s 99ms/step\n",
      "analysing timepoint 127\n",
      "1/1 [==============================] - 0s 97ms/step\n",
      "analysing timepoint 128\n",
      "1/1 [==============================] - 0s 102ms/step\n",
      "analysing timepoint 129\n",
      "1/1 [==============================] - 0s 101ms/step\n",
      "analysing timepoint 130\n",
      "1/1 [==============================] - 0s 112ms/step\n",
      "analysing timepoint 131\n",
      "1/1 [==============================] - 0s 131ms/step\n",
      "analysing timepoint 132\n",
      "1/1 [==============================] - 0s 103ms/step\n",
      "analysing timepoint 133\n",
      "1/1 [==============================] - 0s 116ms/step\n",
      "analysing timepoint 134\n",
      "1/1 [==============================] - 0s 114ms/step\n",
      "analysing timepoint 135\n",
      "1/1 [==============================] - 0s 115ms/step\n",
      "analysing timepoint 136\n",
      "1/1 [==============================] - 0s 101ms/step\n",
      "analysing timepoint 137\n",
      "1/1 [==============================] - 0s 112ms/step\n",
      "analysing timepoint 138\n",
      "1/1 [==============================] - 0s 104ms/step\n",
      "analysing timepoint 139\n",
      "1/1 [==============================] - 0s 104ms/step\n",
      "analysing timepoint 140\n",
      "1/1 [==============================] - 0s 102ms/step\n",
      "analysing timepoint 141\n",
      "1/1 [==============================] - 0s 105ms/step\n",
      "analysing timepoint 142\n",
      "1/1 [==============================] - 0s 104ms/step\n",
      "analysing timepoint 143\n",
      "1/1 [==============================] - 0s 110ms/step\n",
      "analysing timepoint 144\n",
      "1/1 [==============================] - 0s 108ms/step\n",
      "analysing timepoint 145\n",
      "1/1 [==============================] - 0s 103ms/step\n",
      "analysing timepoint 146\n",
      "1/1 [==============================] - 0s 107ms/step\n",
      "analysing timepoint 147\n",
      "1/1 [==============================] - 0s 100ms/step\n",
      "analysing timepoint 148\n",
      "1/1 [==============================] - 0s 99ms/step\n",
      "analysing timepoint 149\n",
      "1/1 [==============================] - 0s 105ms/step\n",
      "analysing timepoint 150\n",
      "1/1 [==============================] - 0s 103ms/step\n",
      "analysing timepoint 151\n",
      "1/1 [==============================] - 0s 101ms/step\n",
      "analysing timepoint 152\n",
      "1/1 [==============================] - 0s 103ms/step\n",
      "analysing timepoint 153\n",
      "1/1 [==============================] - 0s 118ms/step\n",
      "analysing timepoint 154\n",
      "1/1 [==============================] - 0s 107ms/step\n",
      "analysing timepoint 155\n",
      "1/1 [==============================] - 0s 100ms/step\n",
      "analysing timepoint 156\n",
      "1/1 [==============================] - 0s 110ms/step\n",
      "analysing timepoint 157\n",
      "1/1 [==============================] - 0s 108ms/step\n",
      "analysing timepoint 158\n",
      "1/1 [==============================] - 0s 110ms/step\n",
      "analysing timepoint 159\n",
      "1/1 [==============================] - 0s 100ms/step\n",
      "analysing timepoint 160\n",
      "1/1 [==============================] - 0s 117ms/step\n",
      "analysing timepoint 161\n",
      "1/1 [==============================] - 0s 108ms/step\n",
      "analysing timepoint 162\n",
      "1/1 [==============================] - 0s 95ms/step\n",
      "analysing timepoint 163\n",
      "1/1 [==============================] - 0s 102ms/step\n",
      "analysing timepoint 164\n",
      "1/1 [==============================] - 0s 103ms/step\n",
      "analysing timepoint 165\n",
      "1/1 [==============================] - 0s 102ms/step\n",
      "analysing timepoint 166\n",
      "1/1 [==============================] - 0s 108ms/step\n",
      "analysing timepoint 167\n",
      "1/1 [==============================] - 0s 104ms/step\n",
      "analysing timepoint 168\n",
      "1/1 [==============================] - 0s 105ms/step\n",
      "analysing timepoint 169\n",
      "1/1 [==============================] - 0s 138ms/step\n",
      "analysing timepoint 170\n",
      "1/1 [==============================] - 0s 103ms/step\n",
      "analysing timepoint 171\n",
      "1/1 [==============================] - 0s 99ms/step\n",
      "analysing timepoint 172\n",
      "1/1 [==============================] - 0s 112ms/step\n",
      "analysing timepoint 173\n",
      "1/1 [==============================] - 0s 107ms/step\n",
      "analysing timepoint 174\n",
      "1/1 [==============================] - 0s 102ms/step\n",
      "analysing timepoint 175\n",
      "1/1 [==============================] - 0s 100ms/step\n",
      "analysing timepoint 176\n",
      "1/1 [==============================] - 0s 105ms/step\n",
      "analysing timepoint 177\n",
      "1/1 [==============================] - 0s 107ms/step\n",
      "analysing timepoint 178\n",
      "1/1 [==============================] - 0s 97ms/step\n",
      "analysing timepoint 179\n",
      "1/1 [==============================] - 0s 103ms/step\n",
      "analysing timepoint 180\n",
      "1/1 [==============================] - 0s 170ms/step\n",
      "analysing timepoint 181\n",
      "1/1 [==============================] - 0s 101ms/step\n",
      "analysing timepoint 182\n",
      "1/1 [==============================] - 0s 111ms/step\n",
      "analysing timepoint 183\n",
      "1/1 [==============================] - 0s 106ms/step\n",
      "analysing timepoint 184\n",
      "1/1 [==============================] - 0s 107ms/step\n",
      "analysing timepoint 185\n",
      "1/1 [==============================] - 0s 100ms/step\n",
      "analysing timepoint 186\n",
      "1/1 [==============================] - 0s 103ms/step\n",
      "analysing timepoint 187\n",
      "1/1 [==============================] - 0s 103ms/step\n",
      "analysing timepoint 188\n",
      "1/1 [==============================] - 0s 114ms/step\n",
      "analysing timepoint 189\n",
      "1/1 [==============================] - 0s 108ms/step\n",
      "analysing timepoint 190\n",
      "1/1 [==============================] - 0s 105ms/step\n",
      "analysing timepoint 191\n",
      "1/1 [==============================] - 0s 112ms/step\n",
      "analysing timepoint 192\n",
      "1/1 [==============================] - 0s 105ms/step\n",
      "analysing timepoint 193\n",
      "1/1 [==============================] - 0s 95ms/step\n",
      "analysing timepoint 194\n",
      "1/1 [==============================] - 0s 107ms/step\n",
      "analysing timepoint 195\n",
      "1/1 [==============================] - 0s 102ms/step\n",
      "analysing timepoint 196\n",
      "1/1 [==============================] - 0s 110ms/step\n",
      "analysing timepoint 197\n",
      "1/1 [==============================] - 0s 104ms/step\n",
      "analysing timepoint 198\n",
      "1/1 [==============================] - 0s 103ms/step\n",
      "analysing timepoint 199\n",
      "1/1 [==============================] - 0s 105ms/step\n"
     ]
    },
    {
     "name": "stderr",
     "output_type": "stream",
     "text": [
      "3341345064.py (16): example_data\\stardist\\stardist.tif is a low contrast image\n"
     ]
    }
   ],
   "source": [
    "out_path_stardist = os.path.join(PATH, OUT_LABELS,  'stardist.tif')\n",
    "segmentation = []\n",
    "df = []\n",
    "\n",
    "for t, tp_data in enumerate(image_data):\n",
    "    print(f'analysing timepoint {t}')\n",
    "    labels, _ = model.predict_instances(normalize(tp_data))\n",
    "    labels = skimage.segmentation.clear_border(labels)\n",
    "    dic = regionprops_table(labels, tp_data, properties=['label', 'centroid', 'intensity_mean', 'area'])\n",
    "    dic['timepoint'] = numpy.repeat(t, len(dic['label']))\n",
    "    df.append(pd.DataFrame(dic))\n",
    "    skimage.segmentation.clear_border(labels)\n",
    "    segmentation.append(labels)\n",
    "\n",
    "# optionally save segmentation\n",
    "skimage.io.imsave(out_path_stardist, numpy.stack(segmentation))"
   ]
  },
  {
   "cell_type": "markdown",
   "metadata": {},
   "source": [
    "### Track nuclei and export data as csv"
   ]
  },
  {
   "cell_type": "code",
   "execution_count": 70,
   "metadata": {},
   "outputs": [
    {
     "name": "stdout",
     "output_type": "stream",
     "text": [
      "Frame 199: 134 trajectories present.\n"
     ]
    }
   ],
   "source": [
    "df_full = pd.concat(df)\n",
    "df_full = df_full.rename(columns={\"centroid-1\": \"x\", \"centroid-0\": \"y\", 'intensity_mean': 'ERK'})\n",
    "df_full = df_full.sort_values(['timepoint'])\n",
    "df_tracked = trackpy.link_df(df_full, search_range = 10, memory = 2, t_column = 'timepoint')\n",
    "df_tracked = df_tracked.reset_index(drop=True).rename(columns={'particle': \"track_id\"})\n",
    "df_tracked.to_csv(out_path_csv+'\\\\tracked_data_fret.csv')"
   ]
  },
  {
   "cell_type": "markdown",
   "metadata": {},
   "source": [
    "### Detect Collective events with ARCOS"
   ]
  },
  {
   "cell_type": "code",
   "execution_count": 71,
   "metadata": {},
   "outputs": [],
   "source": [
    "ts = ARCOS(df_tracked, [\"x\", \"y\"], 'timepoint','track_id', 'ERK')\n",
    "ts.interpolate_measurements()\n",
    "ts.bin_measurements(biasMet='none', binThr=0.28)\n",
    "df_arcos = ts.trackCollev(eps=40, minClsz=5)"
   ]
  },
  {
   "cell_type": "markdown",
   "metadata": {},
   "source": [
    "### Filter Collective events"
   ]
  },
  {
   "cell_type": "code",
   "execution_count": 72,
   "metadata": {},
   "outputs": [],
   "source": [
    "from arcos4py.tools import filterCollev\n",
    "\n",
    "filterer = filterCollev(df_arcos, 'timepoint', 'clTrackID', 'track_id')\n",
    "ts_filtered = filterer.filter(25, 10)"
   ]
  },
  {
   "cell_type": "markdown",
   "metadata": {},
   "source": [
    "### Plot Noodleplot"
   ]
  },
  {
   "cell_type": "code",
   "execution_count": 73,
   "metadata": {},
   "outputs": [
    {
     "data": {
      "text/plain": [
       "(<Figure size 432x288 with 1 Axes>,\n",
       " <AxesSubplot:xlabel='Time Point', ylabel='Position'>)"
      ]
     },
     "execution_count": 73,
     "metadata": {},
     "output_type": "execute_result"
    },
    {
     "data": {
      "image/png": "[encoded data removed]",
      "text/plain": [
       "<Figure size 432x288 with 1 Axes>"
      ]
     },
     "metadata": {
      "needs_background": "light"
     },
     "output_type": "display_data"
    }
   ],
   "source": [
    "from arcos4py.plotting import NoodlePlot\n",
    "\n",
    "NoodlePlot(ts_filtered, 'clTrackID', 'track_id', 'timepoint', 'x', 'y').plot('x')"
   ]
  },
  {
   "cell_type": "code",
   "execution_count": 74,
   "metadata": {},
   "outputs": [],
   "source": [
    "np_data = df_tracked[['track_id', 'timepoint', 'y', 'x']].to_numpy()\n",
    "colors = numpy.take(numpy.array(TAB20), ts_filtered['clTrackID'].unique(), mode=\"wrap\")\n",
    "df_w_colors = pd.merge(ts_filtered, pd.DataFrame(data={'colors': colors, 'clTrackID': ts_filtered['clTrackID'].unique()}))\n",
    "points_data = df_w_colors[['timepoint', 'y', 'x']].to_numpy()\n",
    "colors_data = df_w_colors['colors'].to_numpy('str')"
   ]
  },
  {
   "cell_type": "markdown",
   "metadata": {},
   "source": [
    "### Remap measured Ratio to segmentation labels"
   ]
  },
  {
   "cell_type": "code",
   "execution_count": 75,
   "metadata": {},
   "outputs": [],
   "source": [
    "ratio_remapped = numpy.stack(remap_segmentation(df_tracked, segmentation))"
   ]
  },
  {
   "cell_type": "markdown",
   "metadata": {},
   "source": [
    "### Add various layers to napari"
   ]
  },
  {
   "cell_type": "code",
   "execution_count": 76,
   "metadata": {},
   "outputs": [
    {
     "name": "stderr",
     "output_type": "stream",
     "text": [
      "WARNING: DirectWrite: CreateFontFaceFromHDC() failed (Gibt einen Fehler in einer Eingabedatei an, zum Beispiel eine Schriftartdatei.) for QFontDef(Family=\"\", pointsize=12, pixelsize=16, styleHint=5, weight=50, stretch=100, hintingPreference=0) LOGFONT(\"MS Sans Serif\", lfWidth=0, lfHeight=-16) dpi=96\n"
     ]
    },
    {
     "data": {
      "text/plain": [
       "<Points layer 'collective events' at 0x239c0445d60>"
      ]
     },
     "execution_count": 76,
     "metadata": {},
     "output_type": "execute_result"
    }
   ],
   "source": [
    "viewer = Viewer()\n",
    "viewer.add_image(image_data, name='ERK Ratio image', colormap='inferno')\n",
    "viewer.add_image(ratio_remapped, colormap='viridis')\n",
    "viewer.add_labels(numpy.stack(segmentation), name='segmentation', visible=False)\n",
    "viewer.add_tracks(np_data, name='cell tracks')\n",
    "viewer.add_points(points_data, face_color=colors_data, name='collective events')"
   ]
  }
 ],
 "metadata": {
  "kernelspec": {
   "display_name": "Python 3.8.13 ('cellpose_2')",
   "language": "python",
   "name": "python3"
  },
  "language_info": {
   "codemirror_mode": {
    "name": "ipython",
    "version": 3
   },
   "file_extension": ".py",
   "mimetype": "text/x-python",
   "name": "python",
   "nbconvert_exporter": "python",
   "pygments_lexer": "ipython3",
   "version": "3.8.13"
  },
  "vscode": {
   "interpreter": {
    "hash": "696203496361196f389d13a6fb3c184b625150e3a1f6cfeb15af4ec7cc6578d3"
   }
  }
 },
 "nbformat": 4,
 "nbformat_minor": 2
}
